{
 "cells": [
  {
   "cell_type": "code",
   "execution_count": 6,
   "id": "37324ae7-590f-4e63-82e6-01d8a712ae10",
   "metadata": {
    "tags": []
   },
   "outputs": [],
   "source": [
    "import pandas as pd\n",
    "import numpy as np"
   ]
  },
  {
   "cell_type": "code",
   "execution_count": 9,
   "id": "0e6baa56-af04-4db7-959c-b203a7949220",
   "metadata": {
    "tags": []
   },
   "outputs": [
    {
     "data": {
      "text/plain": [
       "array([1, 1, 1, 1])"
      ]
     },
     "execution_count": 9,
     "metadata": {},
     "output_type": "execute_result"
    }
   ],
   "source": [
    "faces = np.array([1,2,3,4])\n",
    "faces\n",
    "weights = np.full(np.shape(faces),1)\n",
    "weights"
   ]
  },
  {
   "cell_type": "code",
   "execution_count": null,
   "id": "d0a491dd-bb99-46d4-9a23-10b7adb653f0",
   "metadata": {},
   "outputs": [],
   "source": [
    "class Die:\n",
    "    \n",
    "    \"This is a class to create, roll, and change a die of N sides, or faces, that is weighted fair or unfair.\"     \n",
    "     \n",
    "    def create_die(self):\n",
    "        \"Create the die using the object's weights. Save to self as a DataFrame.\"\n",
    "        self.n_sides = len(self.weights)\n",
    "        self.my_probs = [i/sum(self.weights) for i in self.weights]\n",
    "        self.die = pd.DataFrame({\n",
    "            'side': range(1, self.n_sides + 1),\n",
    "            'weights': self.my_probs\n",
    "        })\n",
    "    \n",
    "    def roll_die(self):\n",
    "        \"Roll the die using the object's specified number of rolls and die. Save to self as a Series.\"\n",
    "        results = []\n",
    "        for i in range(self.n_rolls):\n",
    "            result = self.die.side.sample(weights=self.die.weights).values[0]\n",
    "            results.append(result)\n",
    "        self.results = pd.Series(results) \n",
    "   "
   ]
  },
  {
   "cell_type": "code",
   "execution_count": 5,
   "id": "012f59ed-4e61-4aba-85d0-5554afed49a0",
   "metadata": {
    "tags": []
   },
   "outputs": [
    {
     "ename": "SyntaxError",
     "evalue": "invalid character '’' (U+2019) (1509687211.py, line 8)",
     "output_type": "error",
     "traceback": [
      "\u001b[0;36m  Cell \u001b[0;32mIn[5], line 8\u001b[0;36m\u001b[0m\n\u001b[0;31m    -   The array’s data type `dtype` may be strings or numbers.\u001b[0m\n\u001b[0m                 ^\u001b[0m\n\u001b[0;31mSyntaxError\u001b[0m\u001b[0;31m:\u001b[0m invalid character '’' (U+2019)\n"
     ]
    }
   ],
   "source": [
    "### **Specific Methods and Attributes**\n",
    "\n",
    "\n",
    "\n",
    "**A method to change the weight of a single side.**\n",
    "\n",
    "-   Takes two arguments: the face value to be changed and the new\n",
    "    weight.\n",
    "\n",
    "-   Checks to see if the face passed is valid value, i.e. if it is in\n",
    "    the die array. If not, raises an `IndexError`.\n",
    "\n",
    "-   Checks to see if the weight is a valid type, i.e. if it is numeric\n",
    "    (integer or float) or castable as numeric. If not, raises a\n",
    "    `TypeError`.\n",
    "\n",
    "**A method to roll the die one or more times.**\n",
    "\n",
    "-   Takes a parameter of how many times the die is to be rolled;\n",
    "    defaults to $1$.\n",
    "\n",
    "-   This is essentially a random sample with replacement, from the\n",
    "    private die data frame, that applies the weights.\n",
    "\n",
    "-   Returns a Python list of outcomes.\n",
    "\n",
    "-   Does not store internally these results.\n",
    "\n",
    "**A method to show the die’s current state.**\n",
    "\n",
    "-   Returns a copy of the private die data frame."
   ]
  },
  {
   "cell_type": "code",
   "execution_count": null,
   "id": "12713ce4-a120-44ee-bfcf-6c3533d9ac13",
   "metadata": {},
   "outputs": [],
   "source": []
  }
 ],
 "metadata": {
  "kernelspec": {
   "display_name": "Python 3 (ipykernel)",
   "language": "python",
   "name": "python3"
  },
  "language_info": {
   "codemirror_mode": {
    "name": "ipython",
    "version": 3
   },
   "file_extension": ".py",
   "mimetype": "text/x-python",
   "name": "python",
   "nbconvert_exporter": "python",
   "pygments_lexer": "ipython3",
   "version": "3.11.4"
  }
 },
 "nbformat": 4,
 "nbformat_minor": 5
}
