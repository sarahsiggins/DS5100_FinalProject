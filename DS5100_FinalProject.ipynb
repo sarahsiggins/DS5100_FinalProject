{
 "cells": [
  {
   "cell_type": "markdown",
   "id": "45762487-d33f-486d-8e38-2cdea04e3528",
   "metadata": {},
   "source": [
    "# Final Project Report\n",
    "\n",
    "* Class: DS 5100\n",
    "* Student Name: Sarah Christen\n",
    "* Student Net ID: sc8rg\n",
    "* This URL: a URL to the notebook source of this document"
   ]
  },
  {
   "cell_type": "markdown",
   "id": "acf756c1-ecaa-41dc-b6ca-d566eb94560b",
   "metadata": {},
   "source": [
    "# Instructions\n",
    "\n",
    "Follow the instructions in the Final Project isntructions notebook and put evidence of your work in this notebook.\n",
    "\n",
    "Total points for each subsection under **Deliverables** and **Scenarios** are given in parentheses.\n",
    "\n",
    "Breakdowns of points within subsections are specified within subsection instructions as bulleted lists.\n",
    "\n",
    "This project is worth **50 points**."
   ]
  },
  {
   "cell_type": "markdown",
   "id": "89dc7a32-f682-4402-8c1e-b6ccdb3e0e39",
   "metadata": {},
   "source": [
    "# Deliverables"
   ]
  },
  {
   "cell_type": "markdown",
   "id": "d32cb273-9a40-4909-a7ce-51f6e4958d3c",
   "metadata": {},
   "source": [
    "## The Monte Carlo Module (10)\n",
    "\n",
    "- URL included, appropriately named (1).\n",
    "- Includes all three specified classes (3).\n",
    "- Includes at least all 12 specified methods (6; .5 each)."
   ]
  },
  {
   "cell_type": "markdown",
   "id": "f5f3b070-de9e-4de9-bfae-8974d184aa28",
   "metadata": {},
   "source": [
    "Put the URL to your GitHub repo here.\n",
    "\n",
    "Repo URL:https://github.com/sarahsiggins/Monte_Carlo_Module"
   ]
  },
  {
   "cell_type": "markdown",
   "id": "162370fb-3729-4c85-b040-8c25b2c966d2",
   "metadata": {},
   "source": [
    "Paste a copy of your module here.\n",
    "\n",
    "NOTE: Paste as text, not as code. Use triple backticks to wrap your code blocks."
   ]
  },
  {
   "cell_type": "markdown",
   "id": "dbc85528-1862-4c86-8a77-0babe0e1a9cc",
   "metadata": {},
   "source": [
    "```\n",
    "\n",
    "import pandas as pd\n",
    "import numpy as np\n",
    "import random\n",
    "\n",
    "class Die:\n",
    "    '''\n",
    "    The Die object takes a numpy array to create a die. \n",
    "    Each value in the input array becomes a face of the created die. Each face must have a unique value.\n",
    "    The die initally created will be \"fair\" (each side has a weight on 1).\n",
    "    '''\n",
    "    def __init__(self,faces):\n",
    "        '''\n",
    "        Parameters\n",
    "        ----------\n",
    "        faces : numpy array\n",
    "            The inputted array should be a data type of strings or numbers.\n",
    "        \n",
    "        Raises\n",
    "        ------\n",
    "        TypeError\n",
    "            if faces input is not a numpy array\n",
    "        ValueError\n",
    "            if faces array does not contain unique values\n",
    "        '''\n",
    "        if not isinstance(faces, np.ndarray):\n",
    "            raise TypeError(\"Faces array must be a NumPy array\")      \n",
    "        if len(np.unique(faces)) != len(faces):\n",
    "            raise ValueError(\"Faces array contains non-distinct values.\")        \n",
    "        self.faces = faces\n",
    "        self.weights = np.full(np.shape(self.faces),1)\n",
    "        self._face_weight = pd.DataFrame({'faces':self.faces,'weights':self.weights})\n",
    "        self._face_weight = self._face_weight.set_index(['faces'])\n",
    "    \n",
    "    def change_weight(self,change_face,new_weight):\n",
    "        '''\n",
    "        A method to change the weight of a single side.\n",
    "\n",
    "        Parameters\n",
    "        ----------\n",
    "        change_face : str or number\n",
    "            selected face to change weight of\n",
    "        new_weight : number\n",
    "            the new weight of the chosen face\n",
    "\n",
    "        Raises\n",
    "        ------\n",
    "        IndexError\n",
    "            if change_face inputted is not a face contained in the die array\n",
    "        ValueError\n",
    "            if new_weight is not a number\n",
    "\n",
    "        Returns\n",
    "        -------\n",
    "        None\n",
    "        '''\n",
    "        if not (change_face in list(self._face_weight.index)):\n",
    "            raise IndexError(\"That face is not a valid value. It is not in the die array.\")\n",
    "        if not isinstance(new_weight, (int, float)):\n",
    "            raise TypeError(\"New weight value must be a number\")\n",
    "        else:\n",
    "            self._face_weight.loc[change_face]= new_weight\n",
    "        \n",
    "    def roll_die(self,n_rolls = 1):\n",
    "        '''\n",
    "        A method to roll the die.\n",
    "\n",
    "        Parameters\n",
    "        ----------\n",
    "        n_rolls: number\n",
    "            number of times to roll die\n",
    "            defaults to 1\n",
    "\n",
    "        Returns\n",
    "        -------\n",
    "        results: list\n",
    "            Results of die rolls\n",
    "        '''\n",
    "        results = random.choices(self._face_weight.index.values, weights=self._face_weight[\"weights\"].values, k=n_rolls)\n",
    "        return results        \n",
    "    \n",
    "    def die_current_state(self):\n",
    "        '''\n",
    "        A method to show the die’s current state.\n",
    "\n",
    "        Parameters\n",
    "        ----------\n",
    "        None\n",
    "\n",
    "        Returns\n",
    "        -------\n",
    "        _face_weight: private dataframe\n",
    "            current faces and weights of die\n",
    "        '''\n",
    "        return self._face_weight\n",
    "\n",
    "\n",
    "class Game:\n",
    "    '''\n",
    "    The Game object takes in a list of die to make a game. \n",
    "    A game consists of rolling of one or more dice (Die objects) one or more times.\n",
    "    '''\n",
    "    \n",
    "    def __init__(self,die_list):\n",
    "        '''\n",
    "        Parameters\n",
    "        ----------\n",
    "        die_list : list\n",
    "            list containing objects of the Die type\n",
    "        '''     \n",
    "        self.die_list = die_list\n",
    "        self._played_games = pd.DataFrame()\n",
    "        \n",
    "    def play(self,n_rolls):\n",
    "        '''\n",
    "        A method to play the game, roll each die for a given amount of rolls.\n",
    "\n",
    "        Parameters\n",
    "        ----------\n",
    "        n_rolls: number\n",
    "            number of rolls or times to play the game\n",
    "\n",
    "        Returns\n",
    "        -------\n",
    "        None\n",
    "        '''     \n",
    "        self._played_games = pd.DataFrame()\n",
    "        x = 0\n",
    "        \n",
    "        for i in range(len(self.die_list)):\n",
    "            new_result = pd.DataFrame(self.die_list[i].roll_die(n_rolls))\n",
    "            new_result.index = [x+1 for x in range(n_rolls)]\n",
    "            new_result.index.name = \"Roll Number\"\n",
    "            new_result.columns = [i+1]\n",
    "            new_result.columns.name = \"Die Number\"\n",
    "            self._played_games = pd.concat([self._played_games,new_result],axis = 1)\n",
    "            \n",
    "    def show_previous_result(self,form = \"wide\"):\n",
    "        '''\n",
    "        A method to show the user the results of the most recent play.\n",
    "\n",
    "        Parameters\n",
    "        ----------\n",
    "        form: str; \"narrow\" or \"wide\"\n",
    "            format to view results; defaults to \"wide\"\n",
    "        \n",
    "        Raises\n",
    "        ------\n",
    "        ValueError\n",
    "            if the value of form is not \"narrow\" or \"wide\"\n",
    "        \n",
    "        Returns\n",
    "        -------\n",
    "        _played_games: dataframe\n",
    "            dataframe of the most recent result from the play method \n",
    "            \n",
    "        '''  \n",
    "        if not (form == \"wide\" or form == \"narrow\"):\n",
    "            raise ValueError(\"Invalid form input, must be wide or narrow\")\n",
    "        elif form == \"wide\":\n",
    "            return self._played_games\n",
    "        elif form == \"narrow\":\n",
    "            return self._played_games.stack().to_frame(\"Face Rolled\")\n",
    "\n",
    "class Analyzer:\n",
    "    '''\n",
    "    The Analyzer object takes the results of a single game and computes various descriptive statistical properties about it.\n",
    "    '''\n",
    "    \n",
    "    def __init__(self,game):\n",
    "        '''\n",
    "        Parameters\n",
    "        ----------\n",
    "        game : object\n",
    "            game is a Game object\n",
    "        \n",
    "        Raises\n",
    "        ------\n",
    "        ValueError\n",
    "            if game is not an object\n",
    "        '''        \n",
    "        if not isinstance(game, Game):\n",
    "            raise ValueError(\"Game input must be a Game object\") \n",
    "        self.game = game\n",
    "\n",
    "    def jackpot(self):\n",
    "        '''\n",
    "        A method to compute how many times the game resulted in a jackpot.\n",
    "        \n",
    "        Parameters\n",
    "        ----------\n",
    "        None\n",
    "        \n",
    "        Returns\n",
    "        -------\n",
    "        jp_count: dataframe\n",
    "            number of jackpots in the game\n",
    "        '''\n",
    "        self.jp_df = pd.DataFrame()\n",
    "        for i in range(1,self.game.show_previous_result().T.shape[1]+1):\n",
    "            if ((len(set(self.game.show_previous_result().loc[[i]].values[0].flatten())))==1):\n",
    "                temp = self.game.show_previous_result().loc[[i]]\n",
    "                self.jp_df = pd.concat([self.jp_df, temp], axis=0)\n",
    "        self.jp_count = int(self.jp_df.shape[0])\n",
    "        return self.jp_count\n",
    "    \n",
    "    def face_counts(self):\n",
    "        '''\n",
    "        A method to compute how many times a given face is rolled in each game.\n",
    "        \n",
    "        Parameters\n",
    "        ----------\n",
    "        None\n",
    "        \n",
    "        Returns\n",
    "        -------\n",
    "        counts_df: dataframe\n",
    "            has an index of the roll number, face values as columns, and count values in the cells\n",
    "        '''\n",
    "        self.face_counts = self.game.show_previous_result().apply(lambda x: x.value_counts(), axis = 1).fillna(int(0))\n",
    "        self.counts_df = self.face_counts\n",
    "        self.counts_df.index.name = 'Roll'\n",
    "        self.counts_df.columns.name = \"Die Face\"\n",
    "        return self.counts_df\n",
    "    \n",
    "    def combo_count(self):\n",
    "        '''\n",
    "        A method to compute the distinct combinations of faces rolled, along with their counts. \n",
    "        Combinations are order-independent and may contain repetitions\n",
    "        \n",
    "        Parameters\n",
    "        ----------\n",
    "        None\n",
    "        \n",
    "        Returns\n",
    "        -------\n",
    "        combo_df: dataframe\n",
    "            has a MultiIndex of distinct combinations and a column for the associated counts\n",
    "        '''       \n",
    "        self.combo_df = pd.DataFrame()\n",
    "        self.combo_df = self.game.show_previous_result().apply(lambda x: pd.Series(sorted(x)), 1).value_counts().to_frame('Occurrence')\n",
    "        self.combo_df.index.names = [\"Face Value #\"+str(i) for i in range(1, len(self.game.die_list)+1)]\n",
    "        return self.combo_df\n",
    "    \n",
    "    def perm_count(self):\n",
    "        '''\n",
    "        A method to compute the distinct permutations of faces rolled, along with their counts. \n",
    "        Permutations are order-dependent and may contain repetitions.\n",
    "        \n",
    "        Parameters\n",
    "        ----------\n",
    "        None\n",
    "        \n",
    "        Returns\n",
    "        -------\n",
    "        dataframe\n",
    "            has a MultiIndex of distinct permutations and a column for the associated counts.\n",
    "        '''   \n",
    "        self.perm_df = pd.DataFrame()\n",
    "        new_names = [\"#\"+str(i)+\" die's value\" for i in range(1, len(self.game.die_list)+1)]\n",
    "        temp_df = self.game.show_previous_result()\n",
    "        temp_df.columns = new_names\n",
    "        x = list(range(len(self.game.die_list)))\n",
    "        return temp_df.set_index(new_names).sort_index().groupby(level=x).size().to_frame(\"Occurence\")\n",
    "        \n",
    "```"
   ]
  },
  {
   "cell_type": "markdown",
   "id": "6377727a-8f0a-491e-9f1c-d9dc225edd35",
   "metadata": {},
   "source": [
    "## Unitest Module (2)\n",
    "\n",
    "Paste a copy of your test module below.\n",
    "\n",
    "NOTE: Paste as text, not as code. Use triple backticks to wrap your code blocks.\n",
    "\n",
    "- All methods have at least one test method (1).\n",
    "- Each method employs one of Unittest's Assert methods (1)."
   ]
  },
  {
   "cell_type": "markdown",
   "id": "61d7879d-0c24-40e5-adaf-3272bed00987",
   "metadata": {},
   "source": [
    "```\n",
    "\n",
    "import unittest\n",
    "import montecarlo\n",
    "import pandas as pd\n",
    "import numpy as np\n",
    "\n",
    "class MonteCarloTestSuite(unittest.TestCase):\n",
    "    \n",
    "    def test_die_init(self): \n",
    "        self.assertRaises(TypeError, montecarlo.Die,int(3))\n",
    "        \n",
    "    def test_die_change_weight(self):\n",
    "        coin = montecarlo.Die(np.array([\"H\", \"T\"]))\n",
    "        coin.change_weight(\"H\", 5)\n",
    "        change_test = coin.die_current_state().loc['H'][0]\n",
    "        expected = 5\n",
    "        self.assertEqual(change_test, expected)\n",
    "                \n",
    "    def test_die_roll_die(self): \n",
    "        coin = montecarlo.Die(np.array([\"H\", \"T\"]))\n",
    "        num_rolls = 5\n",
    "        num_roll_test = len(coin.roll_die(n_rolls = 5))\n",
    "        self.assertEqual(num_roll_test, num_rolls)\n",
    "        \n",
    "    def test_die_die_current_state(self): \n",
    "        coin = montecarlo.Die(np.array([\"H\", \"T\"]))\n",
    "        df = coin.die_current_state()\n",
    "        curr_state = isinstance(df, pd.DataFrame)\n",
    "        self.assertTrue(curr_state)        \n",
    "\n",
    "    def test_game_init(self): \n",
    "        coin = montecarlo.Die(np.array([\"H\", \"T\"]))\n",
    "        game = montecarlo.Game(die_list = [coin, coin]) \n",
    "        game_init = isinstance(game, object)\n",
    "        self.assertTrue(game_init)    \n",
    "        \n",
    "    def test_game_play(self): \n",
    "        coin = montecarlo.Die(np.array([\"H\", \"T\"]))\n",
    "        game = montecarlo.Game(die_list = [coin, coin]) \n",
    "        game.play(n_rolls = 10)\n",
    "        game_play = isinstance(game._played_games, pd.DataFrame)\n",
    "        self.assertTrue(game_play)\n",
    "        \n",
    "    def test_game_show_previous_result(self): \n",
    "        coin = montecarlo.Die(np.array([\"H\", \"T\"]))\n",
    "        game = montecarlo.Game(die_list = [coin, coin]) \n",
    "        game.play(n_rolls = 10)\n",
    "        self.assertRaises(ValueError, game.show_previous_result,\"test\")\n",
    "\n",
    "    def test_analyzer_init(self): \n",
    "        self.assertRaises(ValueError, montecarlo.Analyzer,str(\"test\"))\n",
    "        \n",
    "    def test_analyzer_jackpot(self): \n",
    "        coin = montecarlo.Die(np.array([\"H\", \"T\"]))\n",
    "        game = montecarlo.Game(die_list = [coin, coin]) \n",
    "        analyzer = montecarlo.Analyzer(game)\n",
    "        analyzer_jackpot = isinstance(analyzer.jackpot(), int)\n",
    "        self.assertTrue(analyzer_jackpot)\n",
    "\n",
    "    def test_analyzer_face_counts(self): \n",
    "        coin = montecarlo.Die(np.array([\"H\", \"T\"]))\n",
    "        game = montecarlo.Game(die_list = [coin, coin]) \n",
    "        analyzer = montecarlo.Analyzer(game)\n",
    "        analyzer_face_counts = isinstance(analyzer.face_counts(), pd.DataFrame)\n",
    "        self.assertTrue(analyzer_face_counts)\n",
    "        \n",
    "    def test_analyzer_combo_count(self): \n",
    "        coin = montecarlo.Die(np.array([\"H\", \"T\"]))\n",
    "        game = montecarlo.Game(die_list = [coin, coin]) \n",
    "        game.play(n_rolls = 10)\n",
    "        analyzer = montecarlo.Analyzer(game)\n",
    "        analyzer_combo_count = isinstance(analyzer.combo_count(), pd.DataFrame)\n",
    "        self.assertTrue(analyzer_combo_count)\n",
    "        \n",
    "    def test_analyzer_perm_count(self): \n",
    "        coin = montecarlo.Die(np.array([\"H\", \"T\"]))\n",
    "        game = montecarlo.Game(die_list = [coin, coin]) \n",
    "        game.play(n_rolls = 10)\n",
    "        analyzer = montecarlo.Analyzer(game)\n",
    "        analyzer_perm_count = isinstance(analyzer.perm_count(), pd.DataFrame)\n",
    "        self.assertTrue(analyzer_perm_count)\n",
    "        \n",
    "                \n",
    "if __name__ == '__main__':\n",
    "    \n",
    "    unittest.main(verbosity=3)\n",
    "\n",
    "```"
   ]
  },
  {
   "cell_type": "markdown",
   "id": "3e058d03-29bc-408f-b36d-0605b4f4b8c0",
   "metadata": {
    "tags": []
   },
   "source": [
    "## Unittest Results (3)\n",
    "\n",
    "Put a copy of the results of running your tests from the command line here.\n",
    "\n",
    "Again, paste as text using triple backticks.\n",
    "\n",
    "- All 12 specified methods return OK (3; .25 each)."
   ]
  },
  {
   "cell_type": "markdown",
   "id": "04b114da-75c5-439c-8116-092398d27dd6",
   "metadata": {
    "tags": []
   },
   "source": [
    "``` \n",
    "\n",
    "test_analyzer_combo_count (__main__.MonteCarloTestSuite.test_analyzer_combo_count) ... ok\n",
    "test_analyzer_face_counts (__main__.MonteCarloTestSuite.test_analyzer_face_counts) ... ok\n",
    "test_analyzer_init (__main__.MonteCarloTestSuite.test_analyzer_init) ... ok\n",
    "test_analyzer_jackpot (__main__.MonteCarloTestSuite.test_analyzer_jackpot) ... ok\n",
    "test_analyzer_perm_count (__main__.MonteCarloTestSuite.test_analyzer_perm_count) ... ok\n",
    "test_die_change_weight (__main__.MonteCarloTestSuite.test_die_change_weight) ... ok\n",
    "test_die_die_current_state (__main__.MonteCarloTestSuite.test_die_die_current_state) ... ok\n",
    "test_die_init (__main__.MonteCarloTestSuite.test_die_init) ... ok\n",
    "test_die_roll_die (__main__.MonteCarloTestSuite.test_die_roll_die) ... ok\n",
    "test_game_init (__main__.MonteCarloTestSuite.test_game_init) ... ok\n",
    "test_game_play (__main__.MonteCarloTestSuite.test_game_play) ... ok\n",
    "test_game_show_previous_result (__main__.MonteCarloTestSuite.test_game_show_previous_result) ... ok\n",
    "\n",
    "----------------------------------------------------------------------\n",
    "Ran 12 tests in 0.016s\n",
    "\n",
    "OK\n",
    "\n",
    "```"
   ]
  },
  {
   "cell_type": "markdown",
   "id": "d9ffe8c5-eb2f-4ad1-af76-a46550e4c7ac",
   "metadata": {},
   "source": [
    "## Import (1)\n",
    "\n",
    "Import your module here. This import should refer to the code in your package directory.\n",
    "\n",
    "- Module successuflly imported (1)."
   ]
  },
  {
   "cell_type": "code",
   "execution_count": 1,
   "id": "a05dffb3-e6d6-4f78-9df4-5abd0cf74ca9",
   "metadata": {
    "tags": []
   },
   "outputs": [
    {
     "name": "stdout",
     "output_type": "stream",
     "text": [
      "Monte Carlo Package Successfully Imported\n"
     ]
    }
   ],
   "source": [
    "import montecarlo"
   ]
  },
  {
   "cell_type": "code",
   "execution_count": 2,
   "id": "5b9feba9-583a-409c-87e2-5992eb7a8080",
   "metadata": {
    "tags": []
   },
   "outputs": [],
   "source": [
    "from montecarlo import montecarlo"
   ]
  },
  {
   "cell_type": "markdown",
   "id": "f30c4842-65b1-4556-98b6-3fe1a07e1371",
   "metadata": {},
   "source": [
    "## Help Docs (4)\n",
    "\n",
    "Show your docstring documentation by applying `help()` to your imported module.\n",
    "\n",
    "- All methods have a docstring (3; .25 each).\n",
    "- All classes have a docstring (1; .33 each)."
   ]
  },
  {
   "cell_type": "code",
   "execution_count": 3,
   "id": "bf4fbf1f-9885-471c-a0a6-e9ca90e160de",
   "metadata": {
    "tags": []
   },
   "outputs": [
    {
     "name": "stdout",
     "output_type": "stream",
     "text": [
      "Help on module montecarlo.montecarlo in montecarlo:\n",
      "\n",
      "NAME\n",
      "    montecarlo.montecarlo\n",
      "\n",
      "CLASSES\n",
      "    builtins.object\n",
      "        Analyzer\n",
      "        Die\n",
      "        Game\n",
      "    \n",
      "    class Analyzer(builtins.object)\n",
      "     |  Analyzer(game)\n",
      "     |  \n",
      "     |  The Analyzer object takes the results of a single game and computes various descriptive statistical properties about it.\n",
      "     |  \n",
      "     |  Methods defined here:\n",
      "     |  \n",
      "     |  __init__(self, game)\n",
      "     |      Parameters\n",
      "     |      ----------\n",
      "     |      game : object\n",
      "     |          game is a Game object\n",
      "     |      \n",
      "     |      Raises\n",
      "     |      ------\n",
      "     |      ValueError\n",
      "     |          if game is not an object\n",
      "     |  \n",
      "     |  combo_count(self)\n",
      "     |      A method to compute the distinct combinations of faces rolled, along with their counts. \n",
      "     |      Combinations are order-independent and may contain repetitions\n",
      "     |      \n",
      "     |      Parameters\n",
      "     |      ----------\n",
      "     |      None\n",
      "     |      \n",
      "     |      Returns\n",
      "     |      -------\n",
      "     |      combo_df: dataframe\n",
      "     |          has a MultiIndex of distinct combinations and a column for the associated counts\n",
      "     |  \n",
      "     |  face_counts(self)\n",
      "     |      A method to compute how many times a given face is rolled in each game.\n",
      "     |      \n",
      "     |      Parameters\n",
      "     |      ----------\n",
      "     |      None\n",
      "     |      \n",
      "     |      Returns\n",
      "     |      -------\n",
      "     |      counts_df: dataframe\n",
      "     |          has an index of the roll number, face values as columns, and count values in the cells\n",
      "     |  \n",
      "     |  jackpot(self)\n",
      "     |      A method to compute how many times the game resulted in a jackpot.\n",
      "     |      \n",
      "     |      Parameters\n",
      "     |      ----------\n",
      "     |      None\n",
      "     |      \n",
      "     |      Returns\n",
      "     |      -------\n",
      "     |      jp_count: dataframe\n",
      "     |          number of jackpots in the game\n",
      "     |  \n",
      "     |  perm_count(self)\n",
      "     |      A method to compute the distinct permutations of faces rolled, along with their counts. \n",
      "     |      Permutations are order-dependent and may contain repetitions.\n",
      "     |      \n",
      "     |      Parameters\n",
      "     |      ----------\n",
      "     |      None\n",
      "     |      \n",
      "     |      Returns\n",
      "     |      -------\n",
      "     |      dataframe\n",
      "     |          has a MultiIndex of distinct permutations and a column for the associated counts.\n",
      "     |  \n",
      "     |  ----------------------------------------------------------------------\n",
      "     |  Data descriptors defined here:\n",
      "     |  \n",
      "     |  __dict__\n",
      "     |      dictionary for instance variables (if defined)\n",
      "     |  \n",
      "     |  __weakref__\n",
      "     |      list of weak references to the object (if defined)\n",
      "    \n",
      "    class Die(builtins.object)\n",
      "     |  Die(faces)\n",
      "     |  \n",
      "     |  The Die object takes a numpy array to create a die. \n",
      "     |  Each value in the input array becomes a face of the created die. Each face must have a unique value.\n",
      "     |  The die initally created will be \"fair\" (each side has a weight on 1).\n",
      "     |  \n",
      "     |  Methods defined here:\n",
      "     |  \n",
      "     |  __init__(self, faces)\n",
      "     |      Parameters\n",
      "     |      ----------\n",
      "     |      faces : numpy array\n",
      "     |          The inputted array should be a data type of strings or numbers.\n",
      "     |      \n",
      "     |      Raises\n",
      "     |      ------\n",
      "     |      TypeError\n",
      "     |          if faces input is not a numpy array\n",
      "     |      ValueError\n",
      "     |          if faces array does not contain unique values\n",
      "     |  \n",
      "     |  change_weight(self, change_face, new_weight)\n",
      "     |      A method to change the weight of a single side.\n",
      "     |      \n",
      "     |      Parameters\n",
      "     |      ----------\n",
      "     |      change_face : str or number\n",
      "     |          selected face to change weight of\n",
      "     |      new_weight : number\n",
      "     |          the new weight of the chosen face\n",
      "     |      \n",
      "     |      Raises\n",
      "     |      ------\n",
      "     |      IndexError\n",
      "     |          if change_face inputted is not a face contained in the die array\n",
      "     |      ValueError\n",
      "     |          if new_weight is not a number\n",
      "     |      \n",
      "     |      Returns\n",
      "     |      -------\n",
      "     |      None\n",
      "     |  \n",
      "     |  die_current_state(self)\n",
      "     |      A method to show the die’s current state.\n",
      "     |      \n",
      "     |      Parameters\n",
      "     |      ----------\n",
      "     |      None\n",
      "     |      \n",
      "     |      Returns\n",
      "     |      -------\n",
      "     |      _face_weight: private dataframe\n",
      "     |          current faces and weights of die\n",
      "     |  \n",
      "     |  roll_die(self, n_rolls=1)\n",
      "     |      A method to roll the die.\n",
      "     |      \n",
      "     |      Parameters\n",
      "     |      ----------\n",
      "     |      n_rolls: number\n",
      "     |          number of times to roll die\n",
      "     |          defaults to 1\n",
      "     |      \n",
      "     |      Returns\n",
      "     |      -------\n",
      "     |      results: list\n",
      "     |          Results of die rolls\n",
      "     |  \n",
      "     |  ----------------------------------------------------------------------\n",
      "     |  Data descriptors defined here:\n",
      "     |  \n",
      "     |  __dict__\n",
      "     |      dictionary for instance variables (if defined)\n",
      "     |  \n",
      "     |  __weakref__\n",
      "     |      list of weak references to the object (if defined)\n",
      "    \n",
      "    class Game(builtins.object)\n",
      "     |  Game(die_list)\n",
      "     |  \n",
      "     |  The Game object takes in a list of die to make a game. \n",
      "     |  A game consists of rolling of one or more dice (Die objects) one or more times.\n",
      "     |  \n",
      "     |  Methods defined here:\n",
      "     |  \n",
      "     |  __init__(self, die_list)\n",
      "     |      Parameters\n",
      "     |      ----------\n",
      "     |      die_list : list\n",
      "     |          list containing objects of the Die type\n",
      "     |  \n",
      "     |  play(self, n_rolls)\n",
      "     |      A method to play the game, roll each die for a given amount of rolls.\n",
      "     |      \n",
      "     |      Parameters\n",
      "     |      ----------\n",
      "     |      n_rolls: number\n",
      "     |          number of rolls or times to play the game\n",
      "     |      \n",
      "     |      Returns\n",
      "     |      -------\n",
      "     |      None\n",
      "     |  \n",
      "     |  show_previous_result(self, form='wide')\n",
      "     |      A method to show the user the results of the most recent play.\n",
      "     |      \n",
      "     |      Parameters\n",
      "     |      ----------\n",
      "     |      form: str; \"narrow\" or \"wide\"\n",
      "     |          format to view results; defaults to \"wide\"\n",
      "     |      \n",
      "     |      Raises\n",
      "     |      ------\n",
      "     |      ValueError\n",
      "     |          if the value of form is not \"narrow\" or \"wide\"\n",
      "     |      \n",
      "     |      Returns\n",
      "     |      -------\n",
      "     |      _played_games: dataframe\n",
      "     |          dataframe of the most recent result from the play method\n",
      "     |  \n",
      "     |  ----------------------------------------------------------------------\n",
      "     |  Data descriptors defined here:\n",
      "     |  \n",
      "     |  __dict__\n",
      "     |      dictionary for instance variables (if defined)\n",
      "     |  \n",
      "     |  __weakref__\n",
      "     |      list of weak references to the object (if defined)\n",
      "\n",
      "FILE\n",
      "    /sfs/gpfs/tardis/home/sc8rg/Documents/MSDS/DS5100/DS5100_FinalProject/montecarlo/montecarlo.py\n",
      "\n",
      "\n"
     ]
    }
   ],
   "source": [
    "help(montecarlo)"
   ]
  },
  {
   "cell_type": "markdown",
   "id": "a9defa84-b395-4966-bd1c-5c6c2bb7ed68",
   "metadata": {},
   "source": [
    "## `README.md` File (3)\n",
    "\n",
    "Provide link to the README.md file of your project's repo.\n",
    "\n",
    "- Metadata section or info present (1).\n",
    "- Synopsis section showing how each class is called (1). (All must be included.)\n",
    "- API section listing all classes and methods (1). (All must be included.)"
   ]
  },
  {
   "cell_type": "markdown",
   "id": "ee090b33-d593-48a0-bf35-e739cea0942c",
   "metadata": {},
   "source": [
    "URL: https://github.com/sarahsiggins/Monte_Carlo_Module/blob/main/README.md"
   ]
  },
  {
   "cell_type": "markdown",
   "id": "108604c8-8827-42ef-ab59-6b25428fc0ca",
   "metadata": {},
   "source": [
    "## Successful installation (2)\n",
    "\n",
    "Put a screenshot or paste a copy of a terminal session where you successfully install your module with pip.\n",
    "\n",
    "If pasting text, use a preformatted text block to show the results.\n",
    "\n",
    "- Installed with `pip` (1).\n",
    "- Successfully installed message appears (1)."
   ]
  },
  {
   "cell_type": "code",
   "execution_count": 4,
   "id": "cf97c264-3c16-4f3b-903b-8db1930b722c",
   "metadata": {
    "tags": []
   },
   "outputs": [
    {
     "name": "stdout",
     "output_type": "stream",
     "text": [
      "Defaulting to user installation because normal site-packages is not writeable\n",
      "Obtaining file:///sfs/gpfs/tardis/home/sc8rg/Documents/MSDS/DS5100/DS5100_FinalProject\n",
      "  Preparing metadata (setup.py) ... \u001b[?25ldone\n",
      "\u001b[?25hInstalling collected packages: montecarlo\n",
      "  Attempting uninstall: montecarlo\n",
      "    Found existing installation: montecarlo 0.1\n",
      "    Uninstalling montecarlo-0.1:\n",
      "      Successfully uninstalled montecarlo-0.1\n",
      "  Running setup.py develop for montecarlo\n",
      "Successfully installed montecarlo-0.1\n",
      "Note: you may need to restart the kernel to use updated packages.\n"
     ]
    }
   ],
   "source": [
    "pip install -e ."
   ]
  },
  {
   "cell_type": "markdown",
   "id": "7c44695d-d1b3-4edf-9f94-e64d7446f199",
   "metadata": {},
   "source": [
    "# Scenarios\n",
    "\n",
    "Use code blocks to perform the tasks for each scenario.\n",
    "\n",
    "Be sure the outputs are visible before submitting."
   ]
  },
  {
   "cell_type": "markdown",
   "id": "e2479eae-6fc9-44cd-b8d7-9b22cb501f2a",
   "metadata": {
    "tags": []
   },
   "source": [
    "## Scenario 1: A 2-headed Coin (9)\n",
    "\n",
    "Task 1. Create a fair coin (with faces $H$ and $T$) and one unfair coin in which one of the faces has a weight of $5$ and the others $1$.\n",
    "\n",
    "- Fair coin created (1).\n",
    "- Unfair coin created with weight as specified (1)."
   ]
  },
  {
   "cell_type": "code",
   "execution_count": 5,
   "id": "55ce498e-c75f-4425-9e3e-b635bd6cd9e1",
   "metadata": {},
   "outputs": [],
   "source": [
    "import pandas as pd\n",
    "import numpy as np\n",
    "import matplotlib.pyplot as plt\n",
    "fair_coin = montecarlo.Die(np.array([\"H\", \"T\"]))\n",
    "unfair_coin = montecarlo.Die(np.array([\"H\", \"T\"]))\n",
    "unfair_coin.change_weight(\"H\", 5)"
   ]
  },
  {
   "cell_type": "markdown",
   "id": "02b272ab-99da-4b6e-ac2a-555b73e09c07",
   "metadata": {},
   "source": [
    "Task 2. Play a game of $1000$ flips with two fair dice.\n",
    "\n",
    "- Play method called correclty and without error (1)."
   ]
  },
  {
   "cell_type": "code",
   "execution_count": 6,
   "id": "65c92601-d32d-4326-b215-74953aee27f2",
   "metadata": {},
   "outputs": [],
   "source": [
    "fair_game = montecarlo.Game(die_list = [fair_coin, fair_coin]) \n",
    "fair_game.play(n_rolls = 1000)"
   ]
  },
  {
   "cell_type": "markdown",
   "id": "7d9c3dc8-22c1-4cae-81fb-d68d774a05d1",
   "metadata": {},
   "source": [
    "Task 3. Play another game (using a new Game object) of $1000$ flips, this time using two unfair dice and one fair die. For the second unfair die, you can use the same die object twice in the list of dice you pass to the Game object.\n",
    "\n",
    "- New game object created (1).\n",
    "- Play method called correclty and without error (1)."
   ]
  },
  {
   "cell_type": "code",
   "execution_count": 7,
   "id": "d4098bed-1eb2-4084-8d5e-9fda07c3be43",
   "metadata": {},
   "outputs": [],
   "source": [
    "unfair_game = montecarlo.Game(die_list = [unfair_coin,unfair_coin, fair_coin]) \n",
    "unfair_game.play(n_rolls = 1000)"
   ]
  },
  {
   "cell_type": "markdown",
   "id": "f690ebfc-fe71-4eb2-976d-7ac80ca6c23f",
   "metadata": {},
   "source": [
    "Task 4. For each game, use an Analyzer object to determine the raw frequency of jackpots — i.e. getting either all $H$s or all $T$s.\n",
    "\n",
    "- Analyzer objecs instantiated for both games (1).\n",
    "- Raw frequencies reported for both (1)."
   ]
  },
  {
   "cell_type": "code",
   "execution_count": 8,
   "id": "b26b8b7e-3be7-4476-a9a4-37d97536729e",
   "metadata": {},
   "outputs": [
    {
     "data": {
      "text/plain": [
       "(496, 364)"
      ]
     },
     "execution_count": 8,
     "metadata": {},
     "output_type": "execute_result"
    }
   ],
   "source": [
    "fair_analyzer = montecarlo.Analyzer(fair_game)\n",
    "unfair_analyzer = montecarlo.Analyzer(unfair_game)\n",
    "fair_analyzer.jackpot(), unfair_analyzer.jackpot()"
   ]
  },
  {
   "cell_type": "markdown",
   "id": "b73d233c-445e-40cd-8858-0c5e1f097105",
   "metadata": {},
   "source": [
    "Task 5. For each analyzer, compute relative frequency as the number of jackpots over the total number of rolls.\n",
    "\n",
    "- Both relative frequencies computed (1)."
   ]
  },
  {
   "cell_type": "code",
   "execution_count": 9,
   "id": "9a96b31b-1b9d-496e-be3e-4bf83c45ec3a",
   "metadata": {},
   "outputs": [
    {
     "data": {
      "text/plain": [
       "(0.496, 0.364)"
      ]
     },
     "execution_count": 9,
     "metadata": {},
     "output_type": "execute_result"
    }
   ],
   "source": [
    "rel_freq_jackpot_fair = fair_analyzer.jackpot() / 1000\n",
    "rel_freq_jackpot_unfair = unfair_analyzer.jackpot() / 1000\n",
    "rel_freq_jackpot_fair, rel_freq_jackpot_unfair"
   ]
  },
  {
   "cell_type": "markdown",
   "id": "a6e1e734-7f5c-4721-8ba4-2f3a424cf984",
   "metadata": {},
   "source": [
    "Task 6. Show your results, comparing the two relative frequencies, in a simple bar chart.\n",
    "\n",
    "- Bar chart plotted and correct (1)."
   ]
  },
  {
   "cell_type": "code",
   "execution_count": 10,
   "id": "473fa67c-aa53-4aa3-a0b7-e8772b3f6ed3",
   "metadata": {},
   "outputs": [
    {
     "data": {
      "image/png": "[encoded data removed]",
      "text/plain": [
       "<Figure size 640x480 with 1 Axes>"
      ]
     },
     "metadata": {},
     "output_type": "display_data"
    }
   ],
   "source": [
    "fig = plt.figure()\n",
    "ax = fig.add_axes([0,0,1,1])\n",
    "games = [\"Fair\", \"Unfair\"]\n",
    "freq = [rel_freq_jackpot_fair, rel_freq_jackpot_unfair]\n",
    "ax.bar(games, freq)\n",
    "plt.show()"
   ]
  },
  {
   "cell_type": "markdown",
   "id": "725cfa5b-e4b7-47c9-86aa-8d9e1fe6c8c7",
   "metadata": {},
   "source": [
    "## Scenario 2: A 6-sided Die (9)\n",
    "\n",
    "Task 1. Create three dice, each with six sides having the faces 1 through 6.\n",
    "\n",
    "- Three die objects created (1)."
   ]
  },
  {
   "cell_type": "code",
   "execution_count": 11,
   "id": "6a8bc611-325a-4e05-88d5-980e0a2cf7c5",
   "metadata": {},
   "outputs": [],
   "source": [
    "six_die_1 = montecarlo.Die(np.array([1,2,3,4,5,6]))\n",
    "six_die_2 = montecarlo.Die(np.array([1,2,3,4,5,6]))\n",
    "six_die_3 = montecarlo.Die(np.array([1,2,3,4,5,6]))"
   ]
  },
  {
   "cell_type": "markdown",
   "id": "2ed3ad26-fbe9-43bd-9ad7-f683a4191d12",
   "metadata": {},
   "source": [
    "Task 2. Convert one of the dice to an unfair one by weighting the face $6$ five times more than the other weights (i.e. it has weight of 5 and the others a weight of 1 each).\n",
    "\n",
    "- Unfair die created with proper call to weight change method (1)."
   ]
  },
  {
   "cell_type": "code",
   "execution_count": 12,
   "id": "e33dd18f-7f90-456d-a680-61c08a328e21",
   "metadata": {},
   "outputs": [],
   "source": [
    "six_die_2.change_weight(6, 5)"
   ]
  },
  {
   "cell_type": "markdown",
   "id": "7f6c062a-4c5b-45b9-96b8-76a0354c7e47",
   "metadata": {},
   "source": [
    "Task 3. Convert another of the dice to be unfair by weighting the face $1$ five times more than the others.\n",
    "\n",
    "- Unfair die created with proper call to weight change method (1)."
   ]
  },
  {
   "cell_type": "code",
   "execution_count": 13,
   "id": "01133a4e-6b06-4246-8d90-8e6d6995be51",
   "metadata": {},
   "outputs": [],
   "source": [
    "six_die_3.change_weight(1, 5)"
   ]
  },
  {
   "cell_type": "markdown",
   "id": "f0ed31cb-0a3c-4eb2-b85e-6ed6b2eb6e58",
   "metadata": {},
   "source": [
    "Task 4. Play a game of $10000$ rolls with $5$ fair dice.\n",
    "\n",
    "- Game class properly instantiated (1). \n",
    "- Play method called properly (1)."
   ]
  },
  {
   "cell_type": "code",
   "execution_count": 14,
   "id": "e92395a4-9ed8-4cb0-8c85-38768a784ffc",
   "metadata": {},
   "outputs": [],
   "source": [
    "six_fair_game = montecarlo.Game(die_list = [six_die_1, six_die_1,six_die_1,six_die_1,six_die_1]) \n",
    "six_fair_game.play(n_rolls = 10000)"
   ]
  },
  {
   "cell_type": "markdown",
   "id": "7814b402-46a4-40e5-8141-20e05c3e646b",
   "metadata": {},
   "source": [
    "Task 5. Play another game of $10000$ rolls, this time with $2$ unfair dice, one as defined in steps #2 and #3 respectively, and $3$ fair dice.\n",
    "\n",
    "- Game class properly instantiated (1). \n",
    "- Play method called properly (1)."
   ]
  },
  {
   "cell_type": "code",
   "execution_count": 15,
   "id": "7cd58fba-b2a5-4d5d-bc6d-2a7a68d18c4f",
   "metadata": {},
   "outputs": [],
   "source": [
    "six_unfair_game = montecarlo.Game(die_list = [six_die_1, six_die_1,six_die_1,six_die_2,six_die_3]) \n",
    "six_unfair_game.play(n_rolls = 10000)"
   ]
  },
  {
   "cell_type": "markdown",
   "id": "7b6cd372-2bb8-4df8-ade1-8f48bc300955",
   "metadata": {},
   "source": [
    "Task 6. For each game, use an Analyzer object to determine the relative frequency of jackpots and show your results, comparing the two relative frequencies, in a simple bar chart.\n",
    "\n",
    "- Jackpot methods called (1).\n",
    "- Graph produced (1)."
   ]
  },
  {
   "cell_type": "code",
   "execution_count": 16,
   "id": "bbdcf695-8937-406e-9b53-aa0b9ee3c59a",
   "metadata": {},
   "outputs": [
    {
     "data": {
      "image/png": "[encoded data removed]",
      "text/plain": [
       "<Figure size 640x480 with 1 Axes>"
      ]
     },
     "metadata": {},
     "output_type": "display_data"
    }
   ],
   "source": [
    "six_fair_analyzer = montecarlo.Analyzer(six_fair_game)\n",
    "six_unfair_analyzer = montecarlo.Analyzer(six_unfair_game)\n",
    "six_rel_freq_jackpot_fair = six_fair_analyzer.jackpot() / 10000\n",
    "six_rel_freq_jackpot_unfair = six_unfair_analyzer.jackpot() / 10000\n",
    "fig = plt.figure()\n",
    "ax = fig.add_axes([0,0,1,1])\n",
    "games = [\"Fair\", \"Unfair\"]\n",
    "freq = [six_rel_freq_jackpot_fair, six_rel_freq_jackpot_unfair]\n",
    "ax.bar(games, freq)\n",
    "plt.show()"
   ]
  },
  {
   "cell_type": "markdown",
   "id": "9f04e9be-8fcf-4ea4-a391-6614608285f8",
   "metadata": {},
   "source": [
    "## Scenario 3: Letters of the Alphabet (7)\n",
    "\n",
    "Task 1. Create a \"die\" of letters from $A$ to $Z$ with weights based on their frequency of usage as found in the data file `english_letters.txt`. Use the frequencies (i.e. raw counts) as weights.\n",
    "\n",
    "- Die correctly instantiated with source file data (1).\n",
    "- Weights properly applied using weight setting method (1)."
   ]
  },
  {
   "cell_type": "code",
   "execution_count": 17,
   "id": "b0ceb771-3cdf-4d8f-8c2c-020806bbb909",
   "metadata": {},
   "outputs": [],
   "source": [
    "letters = np.loadtxt(\"english_letters.txt\", dtype='str') \n",
    "alphabet_die = montecarlo.Die(letters[:,0])\n",
    "for i in range(len(letters)):\n",
    "    alphabet_die.change_weight(letters[i,0],float(letters[i,1]))"
   ]
  },
  {
   "cell_type": "markdown",
   "id": "88e2e14a-6223-470a-a2c8-bca1120d7a5b",
   "metadata": {},
   "source": [
    "Task 2. Play a game involving $4$ of these dice with $1000$ rolls.\n",
    "\n",
    "- Game play method properly called (1)."
   ]
  },
  {
   "cell_type": "code",
   "execution_count": 18,
   "id": "2ae087cc-936d-4f1e-bddb-a7c179d139e0",
   "metadata": {},
   "outputs": [],
   "source": [
    "letter_game = montecarlo.Game(die_list = [alphabet_die,alphabet_die,alphabet_die,alphabet_die]) \n",
    "letter_game.play(n_rolls = 1000)"
   ]
  },
  {
   "cell_type": "markdown",
   "id": "3b9ff800-bf1f-4f66-9d7f-ff57a648e9f0",
   "metadata": {},
   "source": [
    "Task 3. Determine how many permutations in your results are actual English words, based on the vocabulary found in `scrabble_words.txt`.\n",
    "\n",
    "- Use permutation method (1).\n",
    "- Get count as difference between permutations and vocabulary (1)."
   ]
  },
  {
   "cell_type": "code",
   "execution_count": 19,
   "id": "ed1c7fa0-cfa3-4cf4-9fd0-9f84b86b0f64",
   "metadata": {},
   "outputs": [
    {
     "data": {
      "text/plain": [
       "47"
      ]
     },
     "execution_count": 19,
     "metadata": {},
     "output_type": "execute_result"
    }
   ],
   "source": [
    "letter_analyzer = montecarlo.Analyzer(letter_game)\n",
    "letter_combo = letter_analyzer.perm_count()\n",
    "word = []\n",
    "for i in range(len(letter_combo)):\n",
    "    word.append(\"\".join(list(letter_combo.iloc[i].name)))\n",
    "game_words = np.array(word)\n",
    "scrabble_words = np.loadtxt(\"scrabble_words.txt\", dtype='str') \n",
    "actual_words_game = set(game_words).intersection(set(scrabble_words))\n",
    "len(actual_words_game)"
   ]
  },
  {
   "cell_type": "markdown",
   "id": "fcf068cf-381a-4b3e-ac3a-0510eb4dbdb0",
   "metadata": {},
   "source": [
    "Task 4. Repeat steps #2 and #3, this time with $5$ dice. How many actual words does this produce? Which produces more?\n",
    "\n",
    "- Successfully repreats steps (1).\n",
    "- Identifies parameter with most found words (1)."
   ]
  },
  {
   "cell_type": "markdown",
   "id": "09ae809f-12d5-46c9-869f-025e75c26d6e",
   "metadata": {},
   "source": [
    "A four dice game produced 47 actual words.\n",
    "A five dice game produced 4 actual words."
   ]
  },
  {
   "cell_type": "code",
   "execution_count": 20,
   "id": "9854cc7f-1f4f-4eaa-8f03-dd0258f96015",
   "metadata": {
    "tags": []
   },
   "outputs": [
    {
     "data": {
      "text/plain": [
       "4"
      ]
     },
     "execution_count": 20,
     "metadata": {},
     "output_type": "execute_result"
    }
   ],
   "source": [
    "letter_game_5 = montecarlo.Game(die_list = [alphabet_die,alphabet_die,alphabet_die,alphabet_die,alphabet_die]) \n",
    "letter_game_5.play(n_rolls = 1000)\n",
    "letter_analyzer_5 = montecarlo.Analyzer(letter_game_5)\n",
    "letter_combo_5 = letter_analyzer_5.perm_count()\n",
    "word_5 = []\n",
    "for i in range(len(letter_combo_5)):\n",
    "    word_5.append(\"\".join(list(letter_combo_5.iloc[i].name)))\n",
    "game_words_5 = np.array(word_5)\n",
    "actual_words_game_5 = set(game_words_5).intersection(set(scrabble_words))\n",
    "len(actual_words_game_5)"
   ]
  }
 ],
 "metadata": {
  "kernelspec": {
   "display_name": "Python 3 (ipykernel)",
   "language": "python",
   "name": "python3"
  },
  "language_info": {
   "codemirror_mode": {
    "name": "ipython",
    "version": 3
   },
   "file_extension": ".py",
   "mimetype": "text/x-python",
   "name": "python",
   "nbconvert_exporter": "python",
   "pygments_lexer": "ipython3",
   "version": "3.11.4"
  },
  "toc-autonumbering": true,
  "widgets": {
   "application/vnd.jupyter.widget-state+json": {
    "state": {},
    "version_major": 2,
    "version_minor": 0
   }
  }
 },
 "nbformat": 4,
 "nbformat_minor": 5
}
